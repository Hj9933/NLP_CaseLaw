{
 "cells": [
  {
   "cell_type": "markdown",
   "metadata": {},
   "source": [
    "# Library"
   ]
  },
  {
   "cell_type": "code",
   "execution_count": 2,
   "metadata": {},
   "outputs": [],
   "source": [
    "import pandas as pd\n",
    "import numpy as np\n",
    "import re\n",
    "import warnings\n",
    "\n",
    "from konlpy.tag import Mecab\n",
    "from gensim.models import FastText\n",
    "from nltk.tokenize import sent_tokenize\n",
    "from sqlalchemy import create_engine\n",
    "from tqdm import tqdm_notebook"
   ]
  },
  {
   "cell_type": "code",
   "execution_count": 3,
   "metadata": {},
   "outputs": [],
   "source": [
    "import pandas as pd\n",
    "import numpy as np\n",
    "import pickle as pk\n",
    "import re\n",
    "import tensorflow as tf\n",
    "\n",
    "from gensim.models import FastText\n",
    "from sentence_transformers import SentenceTransformer\n",
    "from sqlalchemy import create_engine\n",
    "from nltk import sent_tokenize\n",
    "from sklearn.metrics.pairwise import cosine_similarity"
   ]
  },
  {
   "cell_type": "code",
   "execution_count": 4,
   "metadata": {},
   "outputs": [],
   "source": [
    "# 경고무시를 위한 코드\n",
    "warnings.filterwarnings('ignore')"
   ]
  },
  {
   "cell_type": "markdown",
   "metadata": {},
   "source": [
    "# 데이터 로드"
   ]
  },
  {
   "cell_type": "code",
   "execution_count": 4,
   "metadata": {},
   "outputs": [],
   "source": [
    "case_list_사기 = pd.read_csv('./00. Data/case_list_사기.csv')"
   ]
  },
  {
   "cell_type": "markdown",
   "metadata": {},
   "source": [
    "## 문장 토큰화\n",
    "- 각 판례 본문을 문장으로 토큰화"
   ]
  },
  {
   "cell_type": "code",
   "execution_count": 37,
   "metadata": {},
   "outputs": [
    {
     "data": {
      "application/vnd.jupyter.widget-view+json": {
       "model_id": "be71895447be4024ab95b13fff224eca",
       "version_major": 2,
       "version_minor": 0
      },
      "text/plain": [
       "  0%|          | 0/2262 [00:00<?, ?it/s]"
      ]
     },
     "metadata": {},
     "output_type": "display_data"
    }
   ],
   "source": [
    "# 각 판례의 모든 문장을 리스트에 저장\n",
    "sentence_tokened = []\n",
    "\n",
    "for x in tqdm_notebook(case_list_사기['X']):\n",
    "    sentence_tokened.extend(sent_tokenize(x))\n",
    "# append와 extend의 차이: append는 x 그 자체를 원소로 넣고 extend는 iterable의 각 항목들을 넣는다"
   ]
  },
  {
   "cell_type": "markdown",
   "metadata": {},
   "source": [
    "## 형태소 토큰화 전 전처리"
   ]
  },
  {
   "cell_type": "code",
   "execution_count": 39,
   "metadata": {},
   "outputs": [
    {
     "data": {
      "application/vnd.jupyter.widget-view+json": {
       "model_id": "70e547dcfce54f9f954cd1334dee7fe8",
       "version_major": 2,
       "version_minor": 0
      },
      "text/plain": [
       "  0%|          | 0/96981 [00:00<?, ?it/s]"
      ]
     },
     "metadata": {},
     "output_type": "display_data"
    }
   ],
   "source": [
    "clean_sentence_tokened = []\n",
    "for sent in tqdm_notebook(sentence_tokened):\n",
    "    clean_sentence_tokened.append(re.sub('[^가-힣]', '', sent))"
   ]
  },
  {
   "cell_type": "markdown",
   "metadata": {},
   "source": [
    "## 형태소 토큰화"
   ]
  },
  {
   "cell_type": "markdown",
   "metadata": {},
   "source": [
    "- mecab-ko-dic은 오픈 소스 형태소 분석 엔진인 MeCab을 사용하여, 한국어 형태소 분석을 하기 위한 프로젝트\n",
    "- 현재 KoNLPy는 윈도우에서 Kkma(), Komoran()만 지원합니다. Mecab(), Hannanum() 는 지원되지 않습니다."
   ]
  },
  {
   "cell_type": "code",
   "execution_count": null,
   "metadata": {},
   "outputs": [],
   "source": [
    "from konlpy.tag import Okt\n",
    "okt = Okt()\n",
    "\n",
    "tokenized_vocab = []\n",
    "\n",
    "for sent in tqdm_notebook(clean_sentence_tokened):\n",
    "    token_word = okt.morphs(sent)\n",
    "    tokenized_vocab.append(token_word)\n"
   ]
  },
  {
   "cell_type": "markdown",
   "metadata": {},
   "source": [
    "# 학습 - FastText"
   ]
  },
  {
   "cell_type": "code",
   "execution_count": null,
   "metadata": {},
   "outputs": [],
   "source": [
    "model = FastText(tokenized_vocab, vector_size=512, window=7, min_count=5, workers=4)"
   ]
  },
  {
   "cell_type": "code",
   "execution_count": 35,
   "metadata": {},
   "outputs": [],
   "source": [
    "model.save('fasttext_okt.model')"
   ]
  },
  {
   "cell_type": "markdown",
   "metadata": {},
   "source": [
    "# Embedding"
   ]
  },
  {
   "cell_type": "code",
   "execution_count": 19,
   "metadata": {},
   "outputs": [],
   "source": [
    "# 모델 로드\n",
    "model = FastText.load('./00. Data/fasttext_okt.model')"
   ]
  },
  {
   "cell_type": "markdown",
   "metadata": {},
   "source": [
    "### 문장 토큰화 전 전처리"
   ]
  },
  {
   "cell_type": "code",
   "execution_count": 42,
   "metadata": {},
   "outputs": [
    {
     "data": {
      "application/vnd.jupyter.widget-view+json": {
       "model_id": "60b789b5e07f4072ae608e9f4778834e",
       "version_major": 2,
       "version_minor": 0
      },
      "text/plain": [
       "  0%|          | 0/2262 [00:00<?, ?it/s]"
      ]
     },
     "metadata": {},
     "output_type": "display_data"
    }
   ],
   "source": [
    "sentence_tokened = []\n",
    "\n",
    "for x in tqdm_notebook(case_list_사기['X']):\n",
    "    sentence_tokened.append(sent_tokenize(x))"
   ]
  },
  {
   "cell_type": "code",
   "execution_count": 21,
   "metadata": {},
   "outputs": [
    {
     "data": {
      "application/vnd.jupyter.widget-view+json": {
       "model_id": "dd93fe46754b4a4d8403aedba2e667f3",
       "version_major": 2,
       "version_minor": 0
      },
      "text/plain": [
       "  0%|          | 0/2262 [00:00<?, ?it/s]"
      ]
     },
     "metadata": {},
     "output_type": "display_data"
    }
   ],
   "source": [
    "embeddings = []\n",
    "\n",
    "for sentences in tqdm_notebook(sentence_tokened):\n",
    "    embedding = None\n",
    "    count = 0\n",
    "    for sentence in sentences:\n",
    "        if embedding is None:\n",
    "            embedding = model.wv.get_sentence_vector(sentence)\n",
    "        else:\n",
    "            embedding += model.wv.get_sentence_vector(sentence)\n",
    "        count += 1\n",
    "    embeddings.append(embedding/count)"
   ]
  },
  {
   "cell_type": "code",
   "execution_count": 31,
   "metadata": {},
   "outputs": [],
   "source": [
    "with open('./00. Data/fasttext_embedding.pickle', 'wb') as fw:\n",
    "    pk.dump(embeddings, fw)"
   ]
  },
  {
   "cell_type": "markdown",
   "metadata": {},
   "source": [
    "# Fasttext 성능 테스트"
   ]
  },
  {
   "cell_type": "code",
   "execution_count": 32,
   "metadata": {},
   "outputs": [],
   "source": [
    "# 모델, 임베딩 로드\n",
    "fasttext = FastText.load('./00. Data/fasttext_okt.model')\n",
    "with open('./00. Data/fasttext_embedding.pickle', 'rb') as fr:\n",
    "    fasttext_embedding = pk.load(fr)"
   ]
  },
  {
   "cell_type": "markdown",
   "metadata": {},
   "source": [
    "### 사용자 입력 전처리"
   ]
  },
  {
   "cell_type": "code",
   "execution_count": 29,
   "metadata": {},
   "outputs": [
    {
     "data": {
      "text/plain": [
       "'저는 년 전부터 갑에게 그 남편의 사업자금 명목으로 수 차례에 걸쳐 만원을 빌려주었습니다.     갑은 돈을 빌릴 당시에는 남편의 건축사업이 잘되면 이자는 물론 아파트분양까지 책임지겠다고 하여 믿고 빌려주었는데     이제 와서는 건축경기가 좋지 않아 파산위기에 처해 있으니 마음대로 하라고 합니다. 이 경우 갑을 사기죄로 처벌할 수 있는지요'"
      ]
     },
     "execution_count": 29,
     "metadata": {},
     "output_type": "execute_result"
    }
   ],
   "source": [
    "from hanja_hangul.src import hanjahangul\n",
    "# 사용자 입력 전처리\n",
    "user_input = \"저는 3년 전부터 甲에게 그 남편의 사업자금 명목으로 수 차례에 걸쳐 1,500만원을 빌려주었습니다. \\\n",
    "    甲은 돈을 빌릴 당시에는 남편의 건축사업이 잘되면 이자는 물론 아파트분양까지 책임지겠다고 하여 믿고 빌려주었는데, \\\n",
    "    이제 와서는 건축경기가 좋지 않아 파산위기에 처해 있으니 마음대로 하라고 합니다. 이 경우 甲을 사기죄로 처벌할 수 있는지요?\"\n",
    "\n",
    "user_input = hanjahangul.hanja_to_hangul_dueum(user_input)\n",
    "clear_user_input = re.sub(\"[^가-힣. ]\", '', user_input)\n",
    "clear_user_input"
   ]
  },
  {
   "cell_type": "markdown",
   "metadata": {},
   "source": [
    "### 사용자 입력 문장 토큰화"
   ]
  },
  {
   "cell_type": "code",
   "execution_count": 30,
   "metadata": {},
   "outputs": [
    {
     "data": {
      "text/plain": [
       "['저는 년 전부터 갑에게 그 남편의 사업자금 명목으로 수 차례에 걸쳐 만원을 빌려주었습니다.',\n",
       " '갑은 돈을 빌릴 당시에는 남편의 건축사업이 잘되면 이자는 물론 아파트분양까지 책임지겠다고 하여 믿고 빌려주었는데     이제 와서는 건축경기가 좋지 않아 파산위기에 처해 있으니 마음대로 하라고 합니다.',\n",
       " '이 경우 갑을 사기죄로 처벌할 수 있는지요']"
      ]
     },
     "execution_count": 30,
     "metadata": {},
     "output_type": "execute_result"
    }
   ],
   "source": [
    "# 사용자 입력 문장 토큰화\n",
    "user_sentence_tokened = sent_tokenize(clear_user_input)\n",
    "user_sentence_tokened"
   ]
  },
  {
   "cell_type": "markdown",
   "metadata": {},
   "source": [
    "### 사용자 입력 임베딩"
   ]
  },
  {
   "cell_type": "code",
   "execution_count": 31,
   "metadata": {},
   "outputs": [],
   "source": [
    "# 사용자 입력 임베딩\n",
    "embedding = None\n",
    "count = 0\n",
    "for sentence in user_sentence_tokened:\n",
    "    if embedding is None:\n",
    "        embedding = fasttext.wv.get_sentence_vector(sentence)\n",
    "    else:\n",
    "        embedding += fasttext.wv.get_sentence_vector(sentence)\n",
    "    count += 1\n",
    "\n",
    "f_embedding = embedding / count"
   ]
  },
  {
   "cell_type": "markdown",
   "metadata": {},
   "source": [
    "### 코사인 유사도 계산"
   ]
  },
  {
   "cell_type": "code",
   "execution_count": 32,
   "metadata": {},
   "outputs": [],
   "source": [
    "f_similarity = cosine_similarity([f_embedding], fasttext_embedding)\n",
    "f_similarity = list(enumerate(f_similarity[0]))\n",
    "f_similarity = sorted(f_similarity, key = lambda x: x[1], reverse=True)"
   ]
  },
  {
   "cell_type": "markdown",
   "metadata": {},
   "source": [
    "### 유사 판례 (상위 5개) 확인"
   ]
  },
  {
   "cell_type": "code",
   "execution_count": 33,
   "metadata": {},
   "outputs": [],
   "source": [
    "precidents = []\n",
    "\n",
    "for i in range(5):\n",
    "    idx = f_similarity[i][0]\n",
    "    sim = round(f_similarity[i][1] * 100, 2)\n",
    "\n",
    "    precidents.append([case_list_사기['판례일련번호'][idx], case_list_사기['사건명'][idx], case_list_사기['사건종류명'][idx], case_list_사기['판례내용'][idx], sim])"
   ]
  },
  {
   "cell_type": "code",
   "execution_count": 34,
   "metadata": {},
   "outputs": [
    {
     "data": {
      "text/html": [
       "<div>\n",
       "<style scoped>\n",
       "    .dataframe tbody tr th:only-of-type {\n",
       "        vertical-align: middle;\n",
       "    }\n",
       "\n",
       "    .dataframe tbody tr th {\n",
       "        vertical-align: top;\n",
       "    }\n",
       "\n",
       "    .dataframe thead th {\n",
       "        text-align: right;\n",
       "    }\n",
       "</style>\n",
       "<table border=\"1\" class=\"dataframe\">\n",
       "  <thead>\n",
       "    <tr style=\"text-align: right;\">\n",
       "      <th></th>\n",
       "      <th>판례일련번호</th>\n",
       "      <th>사건명</th>\n",
       "      <th>사건종류명</th>\n",
       "      <th>판례내용</th>\n",
       "      <th>유사도</th>\n",
       "    </tr>\n",
       "  </thead>\n",
       "  <tbody>\n",
       "    <tr>\n",
       "      <th>0</th>\n",
       "      <td>76900</td>\n",
       "      <td>사기피고사건</td>\n",
       "      <td>형사</td>\n",
       "      <td>【피 고 인】 【주    문】  피고인은 무죄【이    유】  이 사건 공소사실은,...</td>\n",
       "      <td>96.12</td>\n",
       "    </tr>\n",
       "    <tr>\n",
       "      <th>1</th>\n",
       "      <td>192996</td>\n",
       "      <td>살인(예비적죄명:교통사고처리특례법위반)·사기</td>\n",
       "      <td>형사</td>\n",
       "      <td>【피 고 인】 【항 소 인】 검사【검    사】 강화연(기소, 공판), 박병모(공판...</td>\n",
       "      <td>95.90</td>\n",
       "    </tr>\n",
       "    <tr>\n",
       "      <th>2</th>\n",
       "      <td>215295</td>\n",
       "      <td>사기,횡령</td>\n",
       "      <td>형사</td>\n",
       "      <td>【상고인, 피고인】 피고인【원심판결】 제1심 광주지방법원 목포지원, 제2심 광주고등...</td>\n",
       "      <td>95.80</td>\n",
       "    </tr>\n",
       "    <tr>\n",
       "      <th>3</th>\n",
       "      <td>104187</td>\n",
       "      <td>사기</td>\n",
       "      <td>형사</td>\n",
       "      <td>【피 고 인】 【상 고 인】   피고인【원심판결】 \\n서울형사지방법원 1987.7....</td>\n",
       "      <td>95.75</td>\n",
       "    </tr>\n",
       "    <tr>\n",
       "      <th>4</th>\n",
       "      <td>71591</td>\n",
       "      <td>현주건조물방화·사기미수</td>\n",
       "      <td>형사</td>\n",
       "      <td>【피고인】 【항소인】  피고인【변호인】  한밭 법무법인 담당변호사 명을식【원심판결】...</td>\n",
       "      <td>95.72</td>\n",
       "    </tr>\n",
       "  </tbody>\n",
       "</table>\n",
       "</div>"
      ],
      "text/plain": [
       "   판례일련번호                       사건명 사건종류명  \\\n",
       "0   76900                    사기피고사건    형사   \n",
       "1  192996  살인(예비적죄명:교통사고처리특례법위반)·사기    형사   \n",
       "2  215295                     사기,횡령    형사   \n",
       "3  104187                        사기    형사   \n",
       "4   71591              현주건조물방화·사기미수    형사   \n",
       "\n",
       "                                                판례내용    유사도  \n",
       "0  【피 고 인】 【주    문】  피고인은 무죄【이    유】  이 사건 공소사실은,...  96.12  \n",
       "1  【피 고 인】 【항 소 인】 검사【검    사】 강화연(기소, 공판), 박병모(공판...  95.90  \n",
       "2  【상고인, 피고인】 피고인【원심판결】 제1심 광주지방법원 목포지원, 제2심 광주고등...  95.80  \n",
       "3  【피 고 인】 【상 고 인】   피고인【원심판결】 \\n서울형사지방법원 1987.7....  95.75  \n",
       "4  【피고인】 【항소인】  피고인【변호인】  한밭 법무법인 담당변호사 명을식【원심판결】...  95.72  "
      ]
     },
     "execution_count": 34,
     "metadata": {},
     "output_type": "execute_result"
    }
   ],
   "source": [
    "f_result = pd.DataFrame(precidents, columns=['판례일련번호', '사건명', '사건종류명', '판례내용', '유사도'])\n",
    "f_result"
   ]
  }
 ],
 "metadata": {
  "kernelspec": {
   "display_name": "venv",
   "language": "python",
   "name": "python3"
  },
  "language_info": {
   "codemirror_mode": {
    "name": "ipython",
    "version": 3
   },
   "file_extension": ".py",
   "mimetype": "text/x-python",
   "name": "python",
   "nbconvert_exporter": "python",
   "pygments_lexer": "ipython3",
   "version": "3.8.15"
  }
 },
 "nbformat": 4,
 "nbformat_minor": 2
}
