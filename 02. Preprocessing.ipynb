{
 "cells": [
  {
   "cell_type": "markdown",
   "metadata": {},
   "source": [
    "# Library"
   ]
  },
  {
   "cell_type": "code",
   "execution_count": 2,
   "metadata": {},
   "outputs": [],
   "source": [
    "import pandas as pd\n",
    "import numpy as np\n",
    "import re\n",
    "import warnings\n",
    "\n",
    "from konlpy.tag import Mecab\n",
    "from gensim.models import FastText\n",
    "from nltk.tokenize import sent_tokenize\n",
    "from sqlalchemy import create_engine\n",
    "from tqdm import tqdm_notebook"
   ]
  },
  {
   "cell_type": "code",
   "execution_count": 2,
   "metadata": {},
   "outputs": [],
   "source": [
    "import pandas as pd\n",
    "import numpy as np\n",
    "import pickle as pk\n",
    "import re\n",
    "import tensorflow as tf\n",
    "\n",
    "from gensim.models import FastText\n",
    "from sentence_transformers import SentenceTransformer\n",
    "from sqlalchemy import create_engine\n",
    "from nltk import sent_tokenize\n",
    "from sklearn.metrics.pairwise import cosine_similarity"
   ]
  },
  {
   "cell_type": "code",
   "execution_count": 4,
   "metadata": {},
   "outputs": [],
   "source": [
    "# 경고무시를 위한 코드\n",
    "warnings.filterwarnings('ignore')"
   ]
  },
  {
   "cell_type": "markdown",
   "metadata": {},
   "source": [
    "# 데이터 로드"
   ]
  },
  {
   "cell_type": "code",
   "execution_count": 4,
   "metadata": {},
   "outputs": [],
   "source": [
    "case_list_사기 = pd.read_csv('./00. Data/case_list_사기.csv')"
   ]
  },
  {
   "cell_type": "code",
   "execution_count": 5,
   "metadata": {},
   "outputs": [
    {
     "data": {
      "text/plain": [
       "Index(['Unnamed: 0', '판례일련번호', '사건명', '사건번호', '선고일자', '법원명', '사건종류명', '사건종류코드',\n",
       "       '판결유형', '선고', '판례상세링크', '판시사항', '판결요지', '참조조문', '참조판례', '판례내용', 'X'],\n",
       "      dtype='object')"
      ]
     },
     "execution_count": 5,
     "metadata": {},
     "output_type": "execute_result"
    }
   ],
   "source": [
    "case_list_사기.columns"
   ]
  },
  {
   "cell_type": "markdown",
   "metadata": {},
   "source": [
    "# 전처리"
   ]
  },
  {
   "cell_type": "markdown",
   "metadata": {},
   "source": [
    "## 문장 토큰화 전 전처리"
   ]
  },
  {
   "cell_type": "code",
   "execution_count": 6,
   "metadata": {},
   "outputs": [],
   "source": [
    "case_list_사기['X'] = case_list_사기['판례내용']"
   ]
  },
  {
   "cell_type": "markdown",
   "metadata": {},
   "source": [
    "### 판례내용 한자를 한글로 바꾸기"
   ]
  },
  {
   "cell_type": "code",
   "execution_count": 7,
   "metadata": {},
   "outputs": [
    {
     "name": "stdout",
     "output_type": "stream",
     "text": [
      "Yes\n"
     ]
    }
   ],
   "source": [
    "# 엑셀에서 한자 있는 행 찾음\n",
    "if '甲' in case_list_사기['X'].iloc[357]:\n",
    "    print('Yes')\n",
    "else:\n",
    "    print('No')"
   ]
  },
  {
   "cell_type": "code",
   "execution_count": 8,
   "metadata": {},
   "outputs": [],
   "source": [
    "from hanja_hangul.src import hanjahangul\n",
    "# 'X' 열에 대해 'hanjahangul.hanja_to_hangul_dueum' 함수 적용\n",
    "\n",
    "def safe_hanja_to_hangul(text):\n",
    "    try:\n",
    "        return hanjahangul.hanja_to_hangul_dueum(text)\n",
    "    except ValueError:\n",
    "        # 오류 발생시 처리 방법 (예: 원본 텍스트 반환)\n",
    "        return text\n",
    "\n",
    "case_list_사기['X'] = case_list_사기['X'].apply(safe_hanja_to_hangul)\n",
    "# 50초 소요"
   ]
  },
  {
   "cell_type": "code",
   "execution_count": 9,
   "metadata": {},
   "outputs": [
    {
     "name": "stdout",
     "output_type": "stream",
     "text": [
      "No\n"
     ]
    }
   ],
   "source": [
    "# 엑셀에서 한자 있는 행 찾음\n",
    "if '甲' in case_list_사기['X'].iloc[357]:\n",
    "    print('Yes')\n",
    "else:\n",
    "    print('No')"
   ]
  },
  {
   "cell_type": "markdown",
   "metadata": {},
   "source": [
    "### '유】', '유]'로 자르기"
   ]
  },
  {
   "cell_type": "code",
   "execution_count": 10,
   "metadata": {},
   "outputs": [
    {
     "name": "stdout",
     "output_type": "stream",
     "text": [
      "2262\n"
     ]
    }
   ],
   "source": [
    "count = 0\n",
    "for i in range(len(case_list_사기)): # '【이    유】' 포함 행 세기\n",
    "    if '유】' or '유]' in case_list_사기['X'][i]:\n",
    "        count += 1\n",
    "print(count) # 2262개 중 2262개 행에 있음"
   ]
  },
  {
   "cell_type": "code",
   "execution_count": 11,
   "metadata": {},
   "outputs": [],
   "source": [
    "for i in range(len(case_list_사기)): # '【이    유】'로 split 한 후, 이유 앞은 버리기\n",
    "    if '【이    유】' in case_list_사기['X'][i]:\n",
    "        case_list_사기['X'][i] = case_list_사기['X'][i].split('【이    유】')[1]"
   ]
  },
  {
   "cell_type": "code",
   "execution_count": 12,
   "metadata": {},
   "outputs": [],
   "source": [
    "for i in range(len(case_list_사기)): # '[이    유]'로 split 한 후, 이유 앞은 버리기\n",
    "    if '[이    유]' in case_list_사기['X'][i]:\n",
    "        case_list_사기['X'][i] = case_list_사기['X'][i].split('[이    유]')[1]"
   ]
  },
  {
   "cell_type": "code",
   "execution_count": 13,
   "metadata": {},
   "outputs": [
    {
     "data": {
      "text/plain": [
       "0      상고이유를 판단한다.  1. 불가벌적 사후행위에 대한 판단「유사수신행위의 규제에...\n",
       "1      상고이유를 판단한다.   1. 피고인 1, 피고인 2, 피고인 3, 피고인 4,...\n",
       "2      직권으로 판단한다.   1. 의료법 위반의 점에 관한 공소사실의 요지   피고인...\n",
       "3      상고이유를 판단한다.  1. 사건의 개요와 쟁점   가. 의료법 위반의 점에 관...\n",
       "4      1. 이 법원의 심판범위  원심은 배상신청인들의 배상신청을 모두 각하하였다. 소...\n",
       "Name: X, dtype: object"
      ]
     },
     "execution_count": 13,
     "metadata": {},
     "output_type": "execute_result"
    }
   ],
   "source": [
    "case_list_사기['X'].head()"
   ]
  },
  {
   "cell_type": "markdown",
   "metadata": {},
   "source": [
    "### 정규표현식 사용하여 필요없는 문자 제거"
   ]
  },
  {
   "cell_type": "code",
   "execution_count": 14,
   "metadata": {},
   "outputs": [],
   "source": [
    "\n",
    "def remove_text(text):\n",
    "\n",
    "    court = r'대법원 \\d{4}\\. \\d{1,2}\\. \\d{1,2}\\. 선고 \\S+ 판결' # 대법원 1992. 12. 22. 선고 92다14779 판결, 대법원 1999. 4. 27. 선고 99두202 판결\n",
    "    number_pattern1 = r'제\\d+[조항호]' # 제{}조 제{}항 제{}호\n",
    "    number_pattern2 = r'\\d{4}\\. \\d{1,2}\\. \\d{1,2}\\.' # 날짜 제거\n",
    "    text_pattern1 = r'\\s[가-힣]\\.' # 가., 나. / 했다. 이런것도 없애지 않기 위해 앞에 공백 있는 것만 지우기\n",
    "    text_pattern2 = r'\\n' # \\n\n",
    "    text_pattern3 = r'\\([가-힣]\\)' # (가), (나)..\n",
    "    \n",
    "    final_patten = r'[^가-힣.\\s]' # 즉, 한글, 마침표, 공백을 제외한 모든 문자를 제거하는 작업\n",
    "\n",
    "    modified_text = re.sub(court, '', text)\n",
    "    modified_text = re.sub(number_pattern1, '', modified_text)\n",
    "    modified_text = re.sub(number_pattern2, '', modified_text)\n",
    "    modified_text = re.sub(text_pattern1, '', modified_text)\n",
    "    modified_text = re.sub(text_pattern2, '', modified_text)\n",
    "    modified_text = re.sub(text_pattern3, '', modified_text)\n",
    "    modified_text = re.sub(final_patten, '', modified_text) \n",
    "\n",
    "    return modified_text"
   ]
  },
  {
   "cell_type": "code",
   "execution_count": 15,
   "metadata": {},
   "outputs": [],
   "source": [
    "case_list_사기['X'] = case_list_사기['X'].apply(remove_text)"
   ]
  },
  {
   "cell_type": "code",
   "execution_count": 16,
   "metadata": {},
   "outputs": [
    {
     "data": {
      "text/plain": [
       "0      상고이유를 판단한다.  . 불가벌적 사후행위에 대한 판단유사수신행위의 규제에 관...\n",
       "1      상고이유를 판단한다.   . 피고인  피고인  피고인  피고인  피고인 에 대한...\n",
       "2      직권으로 판단한다.   . 의료법 위반의 점에 관한 공소사실의 요지   피고인은...\n",
       "3      상고이유를 판단한다.  . 사건의 개요와 쟁점   의료법 위반의 점에 관한 공소...\n",
       "4      . 이 법원의 심판범위  원심은 배상신청인들의 배상신청을 모두 각하하였다. 소송...\n",
       "Name: X, dtype: object"
      ]
     },
     "execution_count": 16,
     "metadata": {},
     "output_type": "execute_result"
    }
   ],
   "source": [
    "case_list_사기['X'].head()"
   ]
  },
  {
   "cell_type": "markdown",
   "metadata": {},
   "source": [
    "### 쉬운 단어로 대체"
   ]
  },
  {
   "cell_type": "code",
   "execution_count": 17,
   "metadata": {},
   "outputs": [],
   "source": [
    "# 알기 쉬운 법령 정비기준 참고\n",
    "\n",
    "replace_words = {}\n",
    "replace_words['개임'] = '교체 임명'\n",
    "replace_words['개피'] = '개봉'\n",
    "replace_words['구거'] = '도랑'\n",
    "replace_words['부의하는'] = '회의에 부치는'\n",
    "replace_words['사위'] = '거짓'\n",
    "replace_words['실사'] = '실제조사'\n",
    "replace_words['자중'] = '무게'\n",
    "replace_words['잔임기간'] = '남은 임기'\n",
    "replace_words['전폐된'] = '모두 잃은'\n",
    "replace_words['필증'] = '증명서'\n",
    "replace_words['필하다'] = '마치다'\n",
    "replace_words['필한'] = '마친'\n",
    "replace_words['허위'] = '거짓'\n",
    "replace_words['회무'] = '업무'\n",
    "replace_words['파훼'] = '파기'\n",
    "replace_words['아니하지 않을 수 없다'] = '아니하다'"
   ]
  },
  {
   "cell_type": "code",
   "execution_count": 18,
   "metadata": {},
   "outputs": [],
   "source": [
    "for key in replace_words.keys():\n",
    "    case_list_사기['X'] = case_list_사기['X'].str.replace(key, replace_words[key])"
   ]
  },
  {
   "cell_type": "code",
   "execution_count": 48,
   "metadata": {},
   "outputs": [],
   "source": [
    "# case_list_사기.to_csv('case_list_사기.csv')"
   ]
  }
 ],
 "metadata": {
  "kernelspec": {
   "display_name": "venv",
   "language": "python",
   "name": "python3"
  },
  "language_info": {
   "codemirror_mode": {
    "name": "ipython",
    "version": 3
   },
   "file_extension": ".py",
   "mimetype": "text/x-python",
   "name": "python",
   "nbconvert_exporter": "python",
   "pygments_lexer": "ipython3",
   "version": "3.8.15"
  }
 },
 "nbformat": 4,
 "nbformat_minor": 2
}
