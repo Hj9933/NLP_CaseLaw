{
 "cells": [
  {
   "cell_type": "markdown",
   "metadata": {},
   "source": [
    "# Library"
   ]
  },
  {
   "cell_type": "code",
   "execution_count": 1,
   "metadata": {},
   "outputs": [],
   "source": [
    "import pandas as pd\n",
    "import numpy as np\n",
    "import re\n",
    "import warnings\n",
    "\n",
    "\n",
    "from nltk.tokenize import sent_tokenize\n",
    "from sqlalchemy import create_engine\n",
    "from tqdm import tqdm_notebook\n",
    "import pickle as pk\n",
    "import tensorflow as tf\n",
    "\n",
    "from sentence_transformers import SentenceTransformer\n",
    "from nltk import sent_tokenize\n",
    "from sklearn.metrics.pairwise import cosine_similarity"
   ]
  },
  {
   "cell_type": "code",
   "execution_count": 2,
   "metadata": {},
   "outputs": [],
   "source": [
    "# 경고무시를 위한 코드\n",
    "warnings.filterwarnings('ignore')"
   ]
  },
  {
   "cell_type": "markdown",
   "metadata": {},
   "source": [
    "# 데이터 로드"
   ]
  },
  {
   "cell_type": "code",
   "execution_count": 3,
   "metadata": {},
   "outputs": [],
   "source": [
    "case_list_사기 = pd.read_csv('./00. Data/case_list_사기.csv')"
   ]
  },
  {
   "cell_type": "markdown",
   "metadata": {},
   "source": [
    "## SBert"
   ]
  },
  {
   "cell_type": "markdown",
   "metadata": {},
   "source": [
    "### 모델 로드"
   ]
  },
  {
   "cell_type": "code",
   "execution_count": 4,
   "metadata": {},
   "outputs": [],
   "source": [
    "with tf.device(\"/device:GPU:0\"):\n",
    "    sbert = SentenceTransformer('jhgan/ko-sbert-sts')"
   ]
  },
  {
   "cell_type": "code",
   "execution_count": 5,
   "metadata": {},
   "outputs": [
    {
     "data": {
      "application/vnd.jupyter.widget-view+json": {
       "model_id": "07d86bc6929148faa39db57bd1b6e816",
       "version_major": 2,
       "version_minor": 0
      },
      "text/plain": [
       "  0%|          | 0/2262 [00:00<?, ?it/s]"
      ]
     },
     "metadata": {},
     "output_type": "display_data"
    }
   ],
   "source": [
    "sentence_tokened = []\n",
    "\n",
    "for x in tqdm_notebook(case_list_사기['X']):\n",
    "    sentence_tokened.append(sent_tokenize(x))"
   ]
  },
  {
   "cell_type": "markdown",
   "metadata": {},
   "source": [
    "#### 5자 이하의 문장은 없애기"
   ]
  },
  {
   "cell_type": "code",
   "execution_count": 6,
   "metadata": {},
   "outputs": [],
   "source": [
    "for cases in sentence_tokened:\n",
    "  for sen in cases:\n",
    "    if len(sen) <= 5:\n",
    "      cases.remove(sen)"
   ]
  },
  {
   "cell_type": "markdown",
   "metadata": {},
   "source": [
    "#### 한 판례가 90000자 이상을 넘어가면 해당 판례 없애기 -> 임베딩에 너무 많은 시간 소요"
   ]
  },
  {
   "cell_type": "code",
   "execution_count": 7,
   "metadata": {},
   "outputs": [
    {
     "name": "stdout",
     "output_type": "stream",
     "text": [
      "16\n"
     ]
    }
   ],
   "source": [
    "remove_cnt = 0\n",
    "cases_to_remove = []\n",
    "for cases in sentence_tokened:\n",
    "    len_case = 0\n",
    "    for sen in cases:\n",
    "        len_case += len(sen)\n",
    "        if len_case >= 90000:\n",
    "            cases_to_remove.append(cases)\n",
    "            remove_cnt += 1\n",
    "            break\n",
    "\n",
    "for cases in cases_to_remove:\n",
    "    sentence_tokened.remove(cases)\n",
    "\n",
    "print(remove_cnt)"
   ]
  },
  {
   "cell_type": "code",
   "execution_count": 8,
   "metadata": {},
   "outputs": [
    {
     "name": "stdout",
     "output_type": "stream",
     "text": [
      "89993\n"
     ]
    }
   ],
   "source": [
    "max_len = 0\n",
    "for cases in sentence_tokened:\n",
    "    len_case = 0\n",
    "    for sen in cases:\n",
    "        len_case += len(sen)\n",
    "    max_len = max(max_len, len_case)\n",
    "print(max_len)\n",
    "# 최대 판례 길이: 89993"
   ]
  },
  {
   "cell_type": "code",
   "execution_count": 9,
   "metadata": {},
   "outputs": [
    {
     "data": {
      "application/vnd.jupyter.widget-view+json": {
       "model_id": "14083e737f524e04a7cc277004092c96",
       "version_major": 2,
       "version_minor": 0
      },
      "text/plain": [
       "  0%|          | 0/2246 [00:00<?, ?it/s]"
      ]
     },
     "metadata": {},
     "output_type": "display_data"
    }
   ],
   "source": [
    "clean_sentence_tokened = []\n",
    "for sent in tqdm_notebook(sentence_tokened):\n",
    "    sen = []\n",
    "    for s in sent:\n",
    "        sen.append(re.sub('[^가-힣 ]', '', s))\n",
    "    clean_sentence_tokened.append(sen)"
   ]
  },
  {
   "cell_type": "code",
   "execution_count": 10,
   "metadata": {},
   "outputs": [
    {
     "data": {
      "text/plain": [
       "['  상고이유를 판단한다',\n",
       " '불가벌적 사후행위에 대한 판단유사수신행위의 규제에 관한 법률이하 유사수신행위법이라 한다   를 위반한 행위는 그 자체가 사기행위에 해당한다거나 사기행위를 반드시 포함한다고 할 수 없고 유사수신행위법 위반죄가 형법  의 사기죄와 구성요건을 달리하는 별개의 범죄로서 서로 보호법익이 다른 이상 유사수신행위를 한 자가 출자자에게 별도의 기망행위를 하여 유사수신행위로 조달받은 자금의 전부 또는 일부를 다시 투자받는 행위는 유사수신행위법 위반죄와 다른 새로운 보호법익을 침해하는 것으로서 유사수신행위법 위반죄의 불가벌적 사후행위가 되는 것이 아니라 별죄인 사기죄를 구성한다',\n",
       " '원심은 판시와 같은 이유로 피고인의 경 피해자 공소외인에 대한 판시 사기의 점에 관한 공소사실에 대하여 유사수신행위법 에서 금지하는 유사수신행위에는 기망행위가 포함되어 있지 않고 유사수신행위법 위반죄와 사기죄는 구성요건을 달리하는 별개의 범죄로서 서로 행위의 태양이나 보호법익을 달리한다는 등의 이유로 기존 범죄인 유사수신행위법 위반죄의 가벌적 평가범위 내에 흡수되는 불가벌적 사후행위에 해당하지 않는다고 판단하였다',\n",
       " '원심판결 이유를 위 법리 및 기록에 비추어 살펴보면 이 부분 원심판단에 일부 적절하지 않은 점이 있으나 피고인의 경 피해자 공소외인에 대한 판시 사기죄가 유사수신행위법 위반죄의 불가벌적 사후행위에 해당하지 않는다고 본 원심의 판단에 불가벌적 사후행위에 관한 법리를 오해함으로써 판결에 영향을 미친 잘못이 없다',\n",
       " '나머지 상고이유에 대한 판단  이 부분 상고이유는 형사소송법  에서 정한 형보다 가벼운 형이 선고된 이 사건에서 사실오인법리오해를 내세우며 실질적으로 원심의 증거 선택 및 증명력에 관한 판단 또는 이에 기초한 사실인정을 탓하는 것이거나 원심이 인정한 사실과 다른 사실관계를 전제로 법리오해를 지적하는 취지의 주장 또는 형이 너무 무거워 부당하다는 취지의 주장에 해당하여 모두 적법한 상고이유로 볼 수 없다',\n",
       " '결론  그러므로 상고를 기각하기로 하여 관여 대법관의 일치된 의견으로 주문과 같이 판결한다대법관 민유숙재판장 이동원 천대엽주심 권영준']"
      ]
     },
     "execution_count": 10,
     "metadata": {},
     "output_type": "execute_result"
    }
   ],
   "source": [
    "clean_sentence_tokened[0]"
   ]
  },
  {
   "cell_type": "code",
   "execution_count": 11,
   "metadata": {},
   "outputs": [
    {
     "data": {
      "application/vnd.jupyter.widget-view+json": {
       "model_id": "b89cf1a640f54b5d96e66bb378dd5a66",
       "version_major": 2,
       "version_minor": 0
      },
      "text/plain": [
       "  0%|          | 0/2246 [00:00<?, ?it/s]"
      ]
     },
     "metadata": {},
     "output_type": "display_data"
    }
   ],
   "source": [
    "embeddings_sbert = []\n",
    "\n",
    "for sentences in tqdm_notebook(clean_sentence_tokened):\n",
    "    embedding = None\n",
    "    count = 0\n",
    "    for sentence in sentences:\n",
    "        if embedding is None:\n",
    "            embedding = sbert.encode(sentence)\n",
    "        else:\n",
    "            embedding += sbert.encode(sentence)\n",
    "        count += 1\n",
    "    embeddings_sbert.append(embedding/count)"
   ]
  },
  {
   "cell_type": "code",
   "execution_count": 13,
   "metadata": {},
   "outputs": [],
   "source": [
    "with open('./00. Data/sbert_embedding.pickle', 'wb') as fw:\n",
    "    pk.dump(embeddings_sbert, fw)"
   ]
  },
  {
   "cell_type": "markdown",
   "metadata": {},
   "source": [
    "# Sbert 성능 테스트"
   ]
  },
  {
   "cell_type": "code",
   "execution_count": null,
   "metadata": {},
   "outputs": [],
   "source": [
    "with tf.device(\"/device:GPU:0\"):\n",
    "    sbert = SentenceTransformer('jhgan/ko-sbert-sts')"
   ]
  },
  {
   "cell_type": "code",
   "execution_count": 14,
   "metadata": {},
   "outputs": [],
   "source": [
    "# 모델, 임베딩 로드\n",
    "with open('./00. Data/sbert_embedding.pickle', 'rb') as fr:\n",
    "    sbert_embedding = pk.load(fr)"
   ]
  },
  {
   "cell_type": "markdown",
   "metadata": {},
   "source": [
    "### 사용자 입력 임베딩"
   ]
  },
  {
   "cell_type": "code",
   "execution_count": 17,
   "metadata": {},
   "outputs": [
    {
     "data": {
      "text/plain": [
       "['저는 년 전부터 갑에게 그 남편의 사업자금 명목으로 수 차례에 걸쳐 만원을 빌려주었습니다.',\n",
       " '갑은 돈을 빌릴 당시에는 남편의 건축사업이 잘되면 이자는 물론 아파트분양까지 책임지겠다고 하여 믿고 빌려주었는데     이제 와서는 건축경기가 좋지 않아 파산위기에 처해 있으니 마음대로 하라고 합니다.',\n",
       " '이 경우 갑을 사기죄로 처벌할 수 있는지요']"
      ]
     },
     "execution_count": 17,
     "metadata": {},
     "output_type": "execute_result"
    }
   ],
   "source": [
    "from hanja_hangul.src import hanjahangul\n",
    "# 사용자 입력 전처리\n",
    "user_input = \"저는 3년 전부터 甲에게 그 남편의 사업자금 명목으로 수 차례에 걸쳐 1,500만원을 빌려주었습니다. \\\n",
    "    甲은 돈을 빌릴 당시에는 남편의 건축사업이 잘되면 이자는 물론 아파트분양까지 책임지겠다고 하여 믿고 빌려주었는데, \\\n",
    "    이제 와서는 건축경기가 좋지 않아 파산위기에 처해 있으니 마음대로 하라고 합니다. 이 경우 甲을 사기죄로 처벌할 수 있는지요?\"\n",
    "\n",
    "user_input = hanjahangul.hanja_to_hangul_dueum(user_input)\n",
    "clear_user_input = re.sub(\"[^가-힣. ]\", '', user_input)\n",
    "\n",
    "# 사용자 입력 문장 토큰화\n",
    "user_sentence_tokened = sent_tokenize(clear_user_input)\n",
    "user_sentence_tokened"
   ]
  },
  {
   "cell_type": "code",
   "execution_count": 18,
   "metadata": {},
   "outputs": [],
   "source": [
    "embedding = None\n",
    "count = 0\n",
    "for sentence in user_sentence_tokened:\n",
    "    if embedding is None:\n",
    "        embedding = sbert.encode(sentence)\n",
    "    else:\n",
    "        embedding += sbert.encode(sentence)\n",
    "    count += 1\n",
    "\n",
    "s_embedding = embedding / count"
   ]
  },
  {
   "cell_type": "markdown",
   "metadata": {},
   "source": [
    "### 코사인 유사도 계산"
   ]
  },
  {
   "cell_type": "code",
   "execution_count": 19,
   "metadata": {},
   "outputs": [],
   "source": [
    "s_similarity = cosine_similarity([s_embedding], sbert_embedding)\n",
    "s_similarity = list(enumerate(s_similarity[0]))\n",
    "s_similarity = sorted(s_similarity, key=lambda x : x[1], reverse = True)"
   ]
  },
  {
   "cell_type": "code",
   "execution_count": 20,
   "metadata": {},
   "outputs": [],
   "source": [
    "precidents = []\n",
    "\n",
    "for i in range(5):\n",
    "    idx = s_similarity[i][0]\n",
    "    sim = round(s_similarity[i][1] * 100, 2)\n",
    "\n",
    "    precidents.append([case_list_사기['판례일련번호'][idx], case_list_사기['사건명'][idx], case_list_사기['사건종류명'][idx], case_list_사기['판례내용'][idx], sim])"
   ]
  },
  {
   "cell_type": "code",
   "execution_count": 21,
   "metadata": {},
   "outputs": [
    {
     "data": {
      "text/html": [
       "<div>\n",
       "<style scoped>\n",
       "    .dataframe tbody tr th:only-of-type {\n",
       "        vertical-align: middle;\n",
       "    }\n",
       "\n",
       "    .dataframe tbody tr th {\n",
       "        vertical-align: top;\n",
       "    }\n",
       "\n",
       "    .dataframe thead th {\n",
       "        text-align: right;\n",
       "    }\n",
       "</style>\n",
       "<table border=\"1\" class=\"dataframe\">\n",
       "  <thead>\n",
       "    <tr style=\"text-align: right;\">\n",
       "      <th></th>\n",
       "      <th>판례일련번호</th>\n",
       "      <th>사건명</th>\n",
       "      <th>사건종류명</th>\n",
       "      <th>판례내용</th>\n",
       "      <th>유사도</th>\n",
       "    </tr>\n",
       "  </thead>\n",
       "  <tbody>\n",
       "    <tr>\n",
       "      <th>0</th>\n",
       "      <td>185094</td>\n",
       "      <td>사기·지방교육자치에관한법률위반</td>\n",
       "      <td>형사</td>\n",
       "      <td>【피 고 인】 【상 고 인】 피고인 및 검사【변 호 인】 변호사 손지열 외 4인【원...</td>\n",
       "      <td>65.02</td>\n",
       "    </tr>\n",
       "    <tr>\n",
       "      <th>1</th>\n",
       "      <td>144618</td>\n",
       "      <td>특정경제범죄가중처벌등에관한법률위반(배임){피고인2에대한예비적죄명:특정경제범죄가중처벌...</td>\n",
       "      <td>형사</td>\n",
       "      <td>【피 고 인】 【항 소 인】 피고인들 및 검사【검    사】 황현덕외 1인【변 호 ...</td>\n",
       "      <td>64.64</td>\n",
       "    </tr>\n",
       "    <tr>\n",
       "      <th>2</th>\n",
       "      <td>150918</td>\n",
       "      <td>무고·사기미수</td>\n",
       "      <td>형사</td>\n",
       "      <td>【피 고 인】 【항 소 인】 피고인【검    사】 홍기채【변 호 인】 법무법인 지평...</td>\n",
       "      <td>64.53</td>\n",
       "    </tr>\n",
       "    <tr>\n",
       "      <th>3</th>\n",
       "      <td>206304</td>\n",
       "      <td>특정경제범죄가중처벌등에관한법률위반(사기)(인정된죄명:사기)·사기·업무상배임</td>\n",
       "      <td>형사</td>\n",
       "      <td>【피 고 인】 피고인【상 고 인】 피고인【변 호 인】 변호사 조홍【원심판결】 서울고...</td>\n",
       "      <td>63.74</td>\n",
       "    </tr>\n",
       "    <tr>\n",
       "      <th>4</th>\n",
       "      <td>226505</td>\n",
       "      <td>특정경제범죄가중처벌등에관한법률위반(횡령)[일부인정된죄명:특정경제범죄가중처벌등에관한법...</td>\n",
       "      <td>형사</td>\n",
       "      <td>【피 고 인】 피고인【상 고 인】 피고인【변 호 인】 변호사 정해원【원심판결】 서울...</td>\n",
       "      <td>63.57</td>\n",
       "    </tr>\n",
       "  </tbody>\n",
       "</table>\n",
       "</div>"
      ],
      "text/plain": [
       "   판례일련번호                                                사건명 사건종류명  \\\n",
       "0  185094                                   사기·지방교육자치에관한법률위반    형사   \n",
       "1  144618  특정경제범죄가중처벌등에관한법률위반(배임){피고인2에대한예비적죄명:특정경제범죄가중처벌...    형사   \n",
       "2  150918                                            무고·사기미수    형사   \n",
       "3  206304          특정경제범죄가중처벌등에관한법률위반(사기)(인정된죄명:사기)·사기·업무상배임    형사   \n",
       "4  226505  특정경제범죄가중처벌등에관한법률위반(횡령)[일부인정된죄명:특정경제범죄가중처벌등에관한법...    형사   \n",
       "\n",
       "                                                판례내용    유사도  \n",
       "0  【피 고 인】 【상 고 인】 피고인 및 검사【변 호 인】 변호사 손지열 외 4인【원...  65.02  \n",
       "1  【피 고 인】 【항 소 인】 피고인들 및 검사【검    사】 황현덕외 1인【변 호 ...  64.64  \n",
       "2  【피 고 인】 【항 소 인】 피고인【검    사】 홍기채【변 호 인】 법무법인 지평...  64.53  \n",
       "3  【피 고 인】 피고인【상 고 인】 피고인【변 호 인】 변호사 조홍【원심판결】 서울고...  63.74  \n",
       "4  【피 고 인】 피고인【상 고 인】 피고인【변 호 인】 변호사 정해원【원심판결】 서울...  63.57  "
      ]
     },
     "execution_count": 21,
     "metadata": {},
     "output_type": "execute_result"
    }
   ],
   "source": [
    "f_result = pd.DataFrame(precidents, columns=['판례일련번호', '사건명', '사건종류명', '판례내용', '유사도'])\n",
    "f_result"
   ]
  }
 ],
 "metadata": {
  "kernelspec": {
   "display_name": "venv",
   "language": "python",
   "name": "python3"
  },
  "language_info": {
   "codemirror_mode": {
    "name": "ipython",
    "version": 3
   },
   "file_extension": ".py",
   "mimetype": "text/x-python",
   "name": "python",
   "nbconvert_exporter": "python",
   "pygments_lexer": "ipython3",
   "version": "3.8.15"
  }
 },
 "nbformat": 4,
 "nbformat_minor": 2
}
