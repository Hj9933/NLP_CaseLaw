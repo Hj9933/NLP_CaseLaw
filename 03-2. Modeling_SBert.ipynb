{
 "cells": [
  {
   "cell_type": "markdown",
   "metadata": {},
   "source": [
    "# Library"
   ]
  },
  {
   "cell_type": "code",
   "execution_count": 1,
   "metadata": {},
   "outputs": [],
   "source": [
    "import pandas as pd\n",
    "import numpy as np\n",
    "import re\n",
    "import warnings\n",
    "\n",
    "from konlpy.tag import Mecab\n",
    "from gensim.models import FastText\n",
    "from nltk.tokenize import sent_tokenize\n",
    "from sqlalchemy import create_engine\n",
    "from tqdm import tqdm_notebook"
   ]
  },
  {
   "cell_type": "code",
   "execution_count": 2,
   "metadata": {},
   "outputs": [],
   "source": [
    "import pandas as pd\n",
    "import numpy as np\n",
    "import pickle as pk\n",
    "import re\n",
    "import tensorflow as tf\n",
    "\n",
    "from gensim.models import FastText\n",
    "from sentence_transformers import SentenceTransformer\n",
    "from sqlalchemy import create_engine\n",
    "from nltk import sent_tokenize\n",
    "from sklearn.metrics.pairwise import cosine_similarity"
   ]
  },
  {
   "cell_type": "code",
   "execution_count": 3,
   "metadata": {},
   "outputs": [],
   "source": [
    "# 경고무시를 위한 코드\n",
    "warnings.filterwarnings('ignore')"
   ]
  },
  {
   "cell_type": "markdown",
   "metadata": {},
   "source": [
    "# 데이터 로드"
   ]
  },
  {
   "cell_type": "code",
   "execution_count": 4,
   "metadata": {},
   "outputs": [],
   "source": [
    "case_list_사기 = pd.read_csv('./00. Data/case_list_사기.csv')"
   ]
  },
  {
   "cell_type": "markdown",
   "metadata": {},
   "source": [
    "## SBert"
   ]
  },
  {
   "cell_type": "markdown",
   "metadata": {},
   "source": [
    "### 모델 로드"
   ]
  },
  {
   "cell_type": "code",
   "execution_count": 5,
   "metadata": {},
   "outputs": [],
   "source": [
    "with tf.device(\"/device:GPU:0\"):\n",
    "    sbert = SentenceTransformer('jhgan/ko-sbert-sts')"
   ]
  },
  {
   "cell_type": "code",
   "execution_count": 6,
   "metadata": {},
   "outputs": [
    {
     "data": {
      "application/vnd.jupyter.widget-view+json": {
       "model_id": "403bf53cd4c143729c6c669fabd86ad3",
       "version_major": 2,
       "version_minor": 0
      },
      "text/plain": [
       "  0%|          | 0/2262 [00:00<?, ?it/s]"
      ]
     },
     "metadata": {},
     "output_type": "display_data"
    }
   ],
   "source": [
    "sentence_tokened = []\n",
    "\n",
    "for x in tqdm_notebook(case_list_사기['X']):\n",
    "    sentence_tokened.append(sent_tokenize(x))"
   ]
  },
  {
   "cell_type": "code",
   "execution_count": null,
   "metadata": {},
   "outputs": [],
   "source": [
    "embeddings_sbert = []\n",
    "\n",
    "for sentences in tqdm_notebook(sentence_tokened):\n",
    "    embedding = None\n",
    "    count = 0\n",
    "    for sentence in sentences:\n",
    "        if embedding is None:\n",
    "            embedding = sbert.encode(sentence)\n",
    "        else:\n",
    "            embedding += sbert.encode(sentence)\n",
    "        count += 1\n",
    "    embeddings_sbert.append(embedding/count)"
   ]
  },
  {
   "cell_type": "markdown",
   "metadata": {},
   "source": [
    "### 사용자 입력 임베딩"
   ]
  },
  {
   "cell_type": "code",
   "execution_count": null,
   "metadata": {},
   "outputs": [
    {
     "data": {
      "text/plain": [
       "['저는 년 전부터 갑에게 그 남편의 사업자금 명목으로 수 차례에 걸쳐 만원을 빌려주었습니다.',\n",
       " '갑은 돈을 빌릴 당시에는 남편의 건축사업이 잘되면 이자는 물론 아파트분양까지 책임지겠다고 하여 믿고 빌려주었는데     이제 와서는 건축경기가 좋지 않아 파산위기에 처해 있으니 마음대로 하라고 합니다.',\n",
       " '이 경우 갑을 사기죄로 처벌할 수 있는지요']"
      ]
     },
     "execution_count": 28,
     "metadata": {},
     "output_type": "execute_result"
    }
   ],
   "source": [
    "from hanja_hangul.src import hanjahangul\n",
    "# 사용자 입력 전처리\n",
    "user_input = \"저는 3년 전부터 甲에게 그 남편의 사업자금 명목으로 수 차례에 걸쳐 1,500만원을 빌려주었습니다. \\\n",
    "    甲은 돈을 빌릴 당시에는 남편의 건축사업이 잘되면 이자는 물론 아파트분양까지 책임지겠다고 하여 믿고 빌려주었는데, \\\n",
    "    이제 와서는 건축경기가 좋지 않아 파산위기에 처해 있으니 마음대로 하라고 합니다. 이 경우 甲을 사기죄로 처벌할 수 있는지요?\"\n",
    "\n",
    "user_input = hanjahangul.hanja_to_hangul_dueum(user_input)\n",
    "clear_user_input = re.sub(\"[^가-힣. ]\", '', user_input)\n",
    "\n",
    "# 사용자 입력 문장 토큰화\n",
    "user_sentence_tokened = sent_tokenize(clear_user_input)\n",
    "user_sentence_tokened"
   ]
  },
  {
   "cell_type": "code",
   "execution_count": null,
   "metadata": {},
   "outputs": [],
   "source": [
    "embedding = None\n",
    "count = 0\n",
    "for sentence in user_sentence_tokened:\n",
    "    if embedding is None:\n",
    "        embedding = sbert.encode(sentence)\n",
    "    else:\n",
    "        embedding += sbert.encode(sentence)\n",
    "    count += 1\n",
    "\n",
    "s_embedding = embedding / count"
   ]
  },
  {
   "cell_type": "markdown",
   "metadata": {},
   "source": [
    "### 코사인 유사도 계산"
   ]
  },
  {
   "cell_type": "code",
   "execution_count": null,
   "metadata": {},
   "outputs": [],
   "source": [
    "s_similarity = cosine_similarity([s_embedding], embeddings_sbert)\n",
    "s_similarity = list(enumerate(s_similarity[0]))\n",
    "s_similarity = sorted(s_similarity, key=lambda x : x[1], reverse = True)"
   ]
  },
  {
   "cell_type": "code",
   "execution_count": null,
   "metadata": {},
   "outputs": [],
   "source": [
    "precidents = []\n",
    "\n",
    "for i in range(5):\n",
    "    idx = s_similarity[i][0]\n",
    "    sim = round(s_similarity[i][1] * 100, 2)\n",
    "\n",
    "    precidents.append([case_list_사기['판례일련번호'][idx], case_list_사기['사건명'][idx], case_list_사기['사건종류명'][idx], case_list_사기['판례내용'][idx], sim])"
   ]
  },
  {
   "cell_type": "code",
   "execution_count": null,
   "metadata": {},
   "outputs": [],
   "source": [
    "f_result = pd.DataFrame(precidents, columns=['판례일련번호', '사건명', '사건종류명', '판례내용', '유사도'])\n",
    "f_result"
   ]
  }
 ],
 "metadata": {
  "kernelspec": {
   "display_name": "venv",
   "language": "python",
   "name": "python3"
  },
  "language_info": {
   "codemirror_mode": {
    "name": "ipython",
    "version": 3
   },
   "file_extension": ".py",
   "mimetype": "text/x-python",
   "name": "python",
   "nbconvert_exporter": "python",
   "pygments_lexer": "ipython3",
   "version": "3.8.15"
  }
 },
 "nbformat": 4,
 "nbformat_minor": 2
}
